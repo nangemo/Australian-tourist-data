{
 "cells": [
  {
   "cell_type": "code",
   "execution_count": 3,
   "metadata": {},
   "outputs": [],
   "source": [
    "import urllib\n",
    "import urllib.request\n",
    "from bs4 import BeautifulSoup\n"
   ]
  },
  {
   "cell_type": "code",
   "execution_count": 2,
   "metadata": {},
   "outputs": [],
   "source": [
    "url='https://atdw.com.au/our-listings/?pge=1'\n",
    "r=urllib.request.urlopen(url)\n",
    "soup=BeautifulSoup(r,\"html.parser\")\n"
   ]
  },
  {
   "cell_type": "code",
   "execution_count": 3,
   "metadata": {},
   "outputs": [
    {
     "data": {
      "text/plain": [
       "['56b275f9aeeeaaf773d085e9']"
      ]
     },
     "execution_count": 3,
     "metadata": {},
     "output_type": "execute_result"
    }
   ],
   "source": [
    "#find the first product id\n",
    "soup.find('a',{\"class\":\"blogbutton\"}).get('href').partition('?id=')[2].split()"
   ]
  },
  {
   "cell_type": "code",
   "execution_count": 4,
   "metadata": {},
   "outputs": [
    {
     "data": {
      "text/plain": [
       "['56b275f9aeeeaaf773d085e9',\n",
       " '5caf9b941eacec5328ec0162',\n",
       " '5875b661d88a025e33dd6f32',\n",
       " '588bbe50a868a27c0e62c678',\n",
       " '5d64b153ea38277d4a4a5295',\n",
       " '5cbea29cd51ca7c7087cd622',\n",
       " '5cabb5503eeb310157cb6fe9',\n",
       " '5cab6844a7b8a39d62c147ac',\n",
       " '56b267d4d5f1565045dab0f3',\n",
       " '56b2548bd270154b45554cf2',\n",
       " '5cabc73a0ff2cc22374a3452',\n",
       " '5cabd1029d1820a729670d80',\n",
       " '56b243ead270154b4554614a',\n",
       " '56b25ea87b935fbe730ddb46',\n",
       " '56b25e8c7b935fbe730dd8bd',\n",
       " '5cae874dab77b9521a677b5a',\n",
       " '5d636b7dab3d65341e5a472c',\n",
       " '5bbc0c2b1777be0b6096ded4',\n",
       " '5caea63f0295b8614f3af4e9',\n",
       " '5cad174eade9a72241134a73',\n",
       " '5cae05ad21185596792185ea',\n",
       " '5c296f0f1648aa237dec4ff0',\n",
       " '5cae9ed72e701def59748fde',\n",
       " '56b2737b2cbcbe7073aecb32',\n",
       " '56b266ae2cbcbe7073ae05ec',\n",
       " '57847d03726f7efc5dc362c2',\n",
       " '56b26d5cd5f1565045daeffe',\n",
       " '5cabe421a56451c23657ccee',\n",
       " '5cab8d65a56451c23657c674',\n",
       " '5caf7a006586056b1913ee4d']"
      ]
     },
     "execution_count": 4,
     "metadata": {},
     "output_type": "execute_result"
    }
   ],
   "source": [
    "#find all product ids on the page one\n",
    "id_total=[]\n",
    "for buttons in soup.findAll('a',{\"class\":\"blogbutton\"}):\n",
    "    id=buttons.get('href').partition('?id=')[2].split()\n",
    "    id_total+=id\n",
    "id_total"
   ]
  },
  {
   "cell_type": "code",
   "execution_count": 5,
   "metadata": {},
   "outputs": [],
   "source": [
    "import time\n",
    "start_time = time.time()"
   ]
  },
  {
   "cell_type": "code",
   "execution_count": 4,
   "metadata": {},
   "outputs": [
    {
     "data": {
      "text/plain": [
       "0"
      ]
     },
     "execution_count": 4,
     "metadata": {},
     "output_type": "execute_result"
    }
   ],
   "source": [
    "#find all ids on the ATDW website<--which does not work anymore due to the server ban?\n",
    "id_web=[]\n",
    "pg=11 # suppose to be set as 3134 but due to huge amount of calculations, for demo purpose,variable pg, standing for the number of pages, was set as 11\n",
    "for page in range(1,pg): \n",
    " url='https://atdw.com.au/our-listings/?pge='+'page'\n",
    " r=urllib.request.urlopen(url)\n",
    " soup=BeautifulSoup(r,\"html.parser\")\n",
    " id_page=[]\n",
    " for buttons in soup.findAll('a',{\"class\":\"blogbutton\"}):\n",
    "     id=buttons.get('href').partition('?id=')[2].split()\n",
    "     id_page += id\n",
    " id_web += id_page\n",
    "len(id_web)\n",
    "#below error is the output when pg=3134 and the output of len(id_web) was only 1200+"
   ]
  },
  {
   "cell_type": "code",
   "execution_count": null,
   "metadata": {},
   "outputs": [],
   "source": [
    "print(\"--- %s seconds ---\" % (time.time() - start_time))\n"
   ]
  },
  {
   "cell_type": "code",
   "execution_count": null,
   "metadata": {},
   "outputs": [],
   "source": [
    "start_time = time.time()"
   ]
  },
  {
   "cell_type": "code",
   "execution_count": null,
   "metadata": {},
   "outputs": [],
   "source": [
    "#using id_web (93,970) scraped through above code to scrape all product's details (please replace 'please_replace_me' with your registered key number in the url below)\n",
    "prod_total=[]\n",
    "for id in id_web:\n",
    "    url = 'https://atlas.atdw-online.com.au/api/atlas/products?key=please_replace_me&additionalQuery=owningOrganisationId:(%22'+ id +'%22)&out=json'\n",
    "    r = requests.get(url)\n",
    "    json_data = r.json()\n",
    "    prod=json_data['products']\n",
    "    prod_total +=prod \n",
    "len(prod_total)"
   ]
  },
  {
   "cell_type": "code",
   "execution_count": null,
   "metadata": {},
   "outputs": [],
   "source": [
    "print(\"--- %s seconds ---\" % (time.time() - start_time))"
   ]
  }
 ],
 "metadata": {
  "kernelspec": {
   "display_name": "Python 3",
   "language": "python",
   "name": "python3"
  },
  "language_info": {
   "codemirror_mode": {
    "name": "ipython",
    "version": 3
   },
   "file_extension": ".py",
   "mimetype": "text/x-python",
   "name": "python",
   "nbconvert_exporter": "python",
   "pygments_lexer": "ipython3",
   "version": "3.7.3"
  }
 },
 "nbformat": 4,
 "nbformat_minor": 2
}
